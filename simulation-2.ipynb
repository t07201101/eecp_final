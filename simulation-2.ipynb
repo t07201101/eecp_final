{
 "cells": [
  {
   "cell_type": "code",
   "execution_count": null,
   "metadata": {},
   "outputs": [
    {
     "data": {
      "application/javascript": [
       "require.undef(\"nbextensions/vpython_libraries/glow.min\");"
      ],
      "text/plain": [
       "<IPython.core.display.Javascript object>"
      ]
     },
     "metadata": {},
     "output_type": "display_data"
    },
    {
     "data": {
      "application/javascript": [
       "require.undef(\"nbextensions/vpython_libraries/glowcomm\");"
      ],
      "text/plain": [
       "<IPython.core.display.Javascript object>"
      ]
     },
     "metadata": {},
     "output_type": "display_data"
    },
    {
     "data": {
      "application/javascript": [
       "require.undef(\"nbextensions/vpython_libraries/jquery-ui.custom.min\");"
      ],
      "text/plain": [
       "<IPython.core.display.Javascript object>"
      ]
     },
     "metadata": {},
     "output_type": "display_data"
    },
    {
     "data": {
      "application/javascript": [
       "require([\"nbextensions/vpython_libraries/glow.min\"], function(){console.log(\"GLOW LOADED\");})"
      ],
      "text/plain": [
       "<IPython.core.display.Javascript object>"
      ]
     },
     "metadata": {},
     "output_type": "display_data"
    },
    {
     "data": {
      "application/javascript": [
       "require([\"nbextensions/vpython_libraries/glowcomm\"], function(){console.log(\"GLOWCOMM LOADED\");})"
      ],
      "text/plain": [
       "<IPython.core.display.Javascript object>"
      ]
     },
     "metadata": {},
     "output_type": "display_data"
    },
    {
     "data": {
      "application/javascript": [
       "require([\"nbextensions/vpython_libraries/jquery-ui.custom.min\"], function(){console.log(\"JQUERY LOADED\");})"
      ],
      "text/plain": [
       "<IPython.core.display.Javascript object>"
      ]
     },
     "metadata": {},
     "output_type": "display_data"
    },
    {
     "data": {
      "text/html": [
       "<div id=\"glowscript\" class=\"glowscript\"></div>"
      ],
      "text/plain": [
       "<IPython.core.display.HTML object>"
      ]
     },
     "metadata": {},
     "output_type": "display_data"
    },
    {
     "data": {
      "application/javascript": [
       "window.__context = { glowscript_container: $(\"#glowscript\").removeAttr(\"id\")}"
      ],
      "text/plain": [
       "<IPython.core.display.Javascript object>"
      ]
     },
     "metadata": {},
     "output_type": "display_data"
    },
    {
     "data": {
      "text/html": [
       "<div id=\"glowscript\" class=\"glowscript\"></div>"
      ],
      "text/plain": [
       "<IPython.core.display.HTML object>"
      ]
     },
     "metadata": {},
     "output_type": "display_data"
    },
    {
     "data": {
      "application/javascript": [
       "window.__context = { glowscript_container: $(\"#glowscript\").removeAttr(\"id\")}"
      ],
      "text/plain": [
       "<IPython.core.display.Javascript object>"
      ]
     },
     "metadata": {},
     "output_type": "display_data"
    }
   ],
   "source": [
    "from    vpython import*\n",
    "G=6.673E-11\n",
    "\n",
    "#set inital parameters\n",
    "mass    =   {'jupiter':   1.898E27,    'asteroid': 9.6E20,    'sun':1.99E30}\n",
    "radius  =   {'jupiter':   6.371E8*100, 'asteroid': 1.317E8*100, 'sun':6.95E8*100}                    \n",
    "jupiter_orbit =   {'r':   7.78E11,   'v':    1.3E4}\n",
    "T_jupiter = 2 * pi * sqrt(jupiter_orbit['r']**3/G/mass['sun'])\n",
    "\n",
    "###### CHOOSE RATIO FOR ORBITAL RESONANCE ######\n",
    "orb_res = 3/1\n",
    "##################################################\n",
    "\n",
    "\n",
    "# calculate corresponding orbital radius for asteroid\n",
    "T_a = T_jupiter/orb_res\n",
    "r_a = (G*mass['sun']*T_a**2/(4*pi**2))**(1/3)\n",
    "asteroid_orbit  =   {'r': r_a  , 'v':2*pi*r_a/T_a}\n",
    "\n",
    "# create functions to calculate impact of graviational force by each object\n",
    "def G_force_jupiter(m,  pos_vec):\n",
    "    return  -G  *   mass['jupiter'] *   m   /   mag2(pos_vec)   *   norm(pos_vec)\n",
    "def G_force_asteroid(m,  pos_vec):\n",
    "    return  -G  *   mass['asteroid'] *   m   /   mag2(pos_vec)   *   norm(pos_vec)\n",
    "def G_force_sun(m,  pos_vec):\n",
    "    return  -G  *   mass['sun'] *   m   /   mag2(pos_vec)   *   norm(pos_vec)\n",
    "\n",
    "# create objects to simulate\n",
    "class   as_obj(sphere):\n",
    "    def kinetic_energy(self):\n",
    "        return  0.5 *   self.m  *   mag2(self.v)\n",
    "    def potential_energy(self):\n",
    "        return  - G *   mass['sun'] *   self.m  /   mag(self.pos)\n",
    "scene   =   canvas(width=800,   height=800, background=vector(0.5,0.5,0))\n",
    "scene.forward   =   vector(0,  1, 0)\n",
    " \n",
    "# initialise objects\n",
    "jupiter   =   as_obj(pos  =   vector(jupiter_orbit['r'],0,0),  radius  =   radius['jupiter'], m   =   mass['jupiter'],  color = color.blue, make_trail  =   False)\n",
    "jupiter.v =   vector(0,   0,    -jupiter_orbit['v'])\n",
    "\n",
    "asteroid    =   as_obj(pos  = vector(asteroid_orbit['r'], 0 ,0) ,    radius  =   radius['asteroid'], m   =   mass['asteroid'],   color   =   color.white,  make_trail  =   True)\n",
    "asteroid.v  =   vector(0,   0,  - asteroid_orbit['v'])\n",
    "\n",
    "sun   =   as_obj(pos  =   vector(0,0,0),  radius  =   radius['sun'], m   =   mass['sun'],\tcolor\t=\tcolor.orange,\temissive=True)\n",
    "sun.v =   vector(0,   0,    0)\n",
    "local_light(pos=vector(0,0,0))\n",
    "\n",
    "#initalise graph for orbital radius of asteroid over time\n",
    "distance = graph(width = 400, align = 'left', xtitle='t',ytitle='x',background=vec(0.5,0.5,0))\n",
    "x=gcurve(color=color.red,graph = distance)\n",
    "\n",
    "#set time and period parameters\n",
    "dt=60*60*12\n",
    "t = 0\n",
    "prev_y = 1\n",
    "first = 1\n",
    "period = 0\n",
    "\n",
    "while   t < 3.0E10:\n",
    "    rate(1000)\n",
    "    \n",
    "    #calculate new acceleration, velocity and position for asteorid\n",
    "    asteroid.a  =   (G_force_jupiter(asteroid.m, asteroid.pos - jupiter.pos) + G_force_sun(asteroid.m, asteroid.pos - sun.pos))   /   asteroid.m\n",
    "    asteroid.v  =   asteroid.v  +   asteroid.a  *   dt\n",
    "    asteroid.pos    =   asteroid.pos    +   asteroid.v  *   dt\n",
    "    \n",
    "    #calculate new acceleration, velocity and position for jupiter\n",
    "    jupiter.a  =   (G_force_asteroid(jupiter.m, asteroid.pos - jupiter.pos) + G_force_sun(jupiter.m, jupiter.pos - sun.pos))    /   jupiter.m\n",
    "    jupiter.v  =   jupiter.v  +   jupiter.a  *   dt\n",
    "    jupiter.pos    =   jupiter.pos    +   jupiter.v  *   dt\n",
    "    \n",
    "    period += dt\n",
    "    \n",
    "    #check if asteroid just passes y-axis, and if so, plot the orbital radius onto the graph\n",
    "    if asteroid.pos.x >= 0 and prev_y <= 0:\n",
    "        if first == 0:\n",
    "            semi_major_axis = (period**2 * G * mass['sun'] / 4 / pi**2)**(1/3)\n",
    "            x.plot(pos=(t,semi_major_axis))\n",
    "        period = 0\n",
    "        first = 0\n",
    "    prev_y = asteroid.pos.x\n",
    "    \n",
    "    t += dt\n",
    "    \n"
   ]
  },
  {
   "cell_type": "code",
   "execution_count": null,
   "metadata": {},
   "outputs": [],
   "source": []
  }
 ],
 "metadata": {
  "kernelspec": {
   "display_name": "VPython",
   "language": "python",
   "name": "vpython"
  },
  "language_info": {
   "codemirror_mode": {
    "name": "ipython",
    "version": 3
   },
   "file_extension": ".py",
   "mimetype": "text/x-python",
   "name": "python",
   "nbconvert_exporter": "python",
   "pygments_lexer": "ipython3",
   "version": "3.6.5"
  }
 },
 "nbformat": 4,
 "nbformat_minor": 2
}
